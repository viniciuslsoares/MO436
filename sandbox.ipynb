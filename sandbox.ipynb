{
 "cells": [
  {
   "cell_type": "code",
   "execution_count": 34,
   "metadata": {},
   "outputs": [],
   "source": [
    "from data_modules.har_barlow_twins import *\n",
    "from transforms.lfr import LFR_HAR_Transform\n",
    "import torch"
   ]
  },
  {
   "cell_type": "code",
   "execution_count": 17,
   "metadata": {},
   "outputs": [],
   "source": [
    "dm = HarBTDataModule(\"./data/RealWorld\", LFR_HAR_Transform())"
   ]
  },
  {
   "cell_type": "code",
   "execution_count": 18,
   "metadata": {},
   "outputs": [],
   "source": [
    "dl = dm.train_dataloader()\n",
    "\n"
   ]
  },
  {
   "cell_type": "code",
   "execution_count": 35,
   "metadata": {},
   "outputs": [],
   "source": [
    "batch = next(iter(dl))"
   ]
  },
  {
   "cell_type": "code",
   "execution_count": 36,
   "metadata": {},
   "outputs": [
    {
     "data": {
      "text/plain": [
       "torch.Size([32, 6, 60])"
      ]
     },
     "execution_count": 36,
     "metadata": {},
     "output_type": "execute_result"
    }
   ],
   "source": [
    "x, _ = batch\n",
    "\n",
    "x.shape"
   ]
  },
  {
   "cell_type": "code",
   "execution_count": 6,
   "metadata": {},
   "outputs": [],
   "source": [
    "from models.har_backbones import HARBackboneSimpleConv\n",
    "from models.har_prediction_head import HARPredictionHead"
   ]
  },
  {
   "cell_type": "code",
   "execution_count": 23,
   "metadata": {},
   "outputs": [],
   "source": [
    "from models.lfr import *"
   ]
  },
  {
   "cell_type": "code",
   "execution_count": 24,
   "metadata": {},
   "outputs": [],
   "source": [
    "bb = HARBackboneSimpleConv()\n",
    "ph = HARPredictor()"
   ]
  },
  {
   "cell_type": "code",
   "execution_count": 37,
   "metadata": {},
   "outputs": [
    {
     "data": {
      "text/plain": [
       "torch.Size([32, 256])"
      ]
     },
     "execution_count": 37,
     "metadata": {},
     "output_type": "execute_result"
    }
   ],
   "source": [
    "z = bb(x)\n",
    "\n",
    "z.shape"
   ]
  },
  {
   "cell_type": "code",
   "execution_count": 38,
   "metadata": {},
   "outputs": [
    {
     "data": {
      "text/plain": [
       "tensor([[-2.6583e-01,  1.9333e-01, -2.6333e-01,  4.1179e-02,  2.8460e-01,\n",
       "         -8.8226e-02],\n",
       "        [-1.2532e-01,  4.0129e-02, -4.1745e-01,  1.0132e-02,  1.8874e-01,\n",
       "         -1.6578e-01],\n",
       "        [-1.6451e-01,  1.6657e-01, -2.1677e-01,  3.1482e-01,  4.0117e-01,\n",
       "         -2.1475e-01],\n",
       "        [-4.8549e-01,  2.7154e-01, -3.0911e-01,  1.3678e-01,  4.2957e-01,\n",
       "         -3.1350e-01],\n",
       "        [-2.9267e-01,  8.4674e-02, -3.8095e-01,  1.5296e-02,  1.8120e-01,\n",
       "         -1.9498e-01],\n",
       "        [-5.3293e-01,  2.0920e-01, -1.7977e-01,  1.7881e-01,  4.2213e-01,\n",
       "         -1.3303e-01],\n",
       "        [-3.8536e-01,  1.8903e-01, -1.5025e-01,  1.8057e-01,  3.7412e-01,\n",
       "         -1.9323e-01],\n",
       "        [-3.3743e-01,  1.4836e-01, -2.5812e-01,  7.1032e-02,  3.6001e-01,\n",
       "         -2.6194e-01],\n",
       "        [-4.2866e-01,  1.1031e-01, -3.1391e-01,  4.1470e-03,  4.0561e-01,\n",
       "         -2.9574e-01],\n",
       "        [-2.5250e-01,  2.5459e-01, -2.7610e-01,  8.4895e-02,  1.9931e-01,\n",
       "         -1.1795e-01],\n",
       "        [-3.0200e-01,  2.4259e-01, -2.1655e-01,  1.4119e-01,  3.4294e-01,\n",
       "         -2.4956e-01],\n",
       "        [-3.6260e-01,  1.6711e-01, -3.2675e-01,  9.7252e-02,  2.7860e-01,\n",
       "         -1.4629e-01],\n",
       "        [-3.7351e-01,  2.5074e-01, -3.7141e-01, -4.1031e-04,  5.2240e-01,\n",
       "         -4.5092e-01],\n",
       "        [-2.5676e-01,  3.2525e-01, -4.2616e-01, -1.5818e-01,  1.0062e-01,\n",
       "         -1.8364e-02],\n",
       "        [-1.9124e-01,  2.3310e-01, -1.8528e-01,  1.8522e-01,  2.5410e-01,\n",
       "         -1.8937e-01],\n",
       "        [-2.2377e-01,  3.0682e-01, -4.0559e-01, -1.9206e-01,  8.5758e-02,\n",
       "         -1.7321e-02],\n",
       "        [-3.0649e-01,  1.0363e-01, -2.9037e-01,  4.7438e-02,  2.6335e-01,\n",
       "         -1.7896e-01],\n",
       "        [-1.6831e-01,  2.2032e-01, -2.2283e-01,  1.1149e-01,  1.2890e-01,\n",
       "         -1.6057e-01],\n",
       "        [-3.1165e-01,  5.4184e-02, -2.3993e-01,  3.5079e-02,  2.6637e-01,\n",
       "         -1.5100e-01],\n",
       "        [-3.3117e-01,  1.4989e-01, -1.5411e-01,  1.5923e-01,  2.5791e-01,\n",
       "         -1.9153e-01],\n",
       "        [-4.6352e-01,  1.9810e-01, -4.8240e-01,  1.5566e-01,  6.6048e-01,\n",
       "         -5.4954e-01],\n",
       "        [-1.9470e-01,  2.1473e-01, -2.2443e-01,  9.7109e-02,  1.2959e-01,\n",
       "         -1.3016e-01],\n",
       "        [-1.9097e-01,  3.4612e-01, -4.8403e-01, -5.6132e-02,  1.0106e-02,\n",
       "         -8.6992e-02],\n",
       "        [-4.1519e-01,  2.3396e-01, -3.0243e-01,  1.1664e-01,  3.7602e-01,\n",
       "         -1.2738e-01],\n",
       "        [-3.5040e-01,  1.4024e-01, -1.8814e-01,  4.8406e-02,  4.1595e-01,\n",
       "         -9.7141e-02],\n",
       "        [-2.4537e-01,  4.9150e-02, -3.0517e-01,  9.0827e-03,  3.6373e-02,\n",
       "         -4.3336e-02],\n",
       "        [-2.6691e-01,  2.6878e-01, -1.5917e-01,  1.0220e-01,  2.0954e-01,\n",
       "         -4.5083e-02],\n",
       "        [-2.8460e-01,  1.5243e-01, -1.8669e-01,  7.8205e-02,  1.6533e-01,\n",
       "         -7.7133e-02],\n",
       "        [-3.9790e-01,  9.2947e-02, -3.3066e-01,  3.4150e-01,  5.2529e-01,\n",
       "         -3.7069e-01],\n",
       "        [-2.1646e-01,  1.9019e-01, -2.3976e-01,  1.1502e-01,  2.1407e-01,\n",
       "         -9.4872e-02],\n",
       "        [-2.5751e-01,  3.1025e-01, -7.3527e-02,  1.4439e-01,  1.8421e-01,\n",
       "         -1.3727e-02],\n",
       "        [-2.1436e-01,  2.1337e-01, -2.7439e-01,  2.6481e-02,  7.3574e-02,\n",
       "         -7.1558e-02]], grad_fn=<AddmmBackward0>)"
      ]
     },
     "execution_count": 38,
     "metadata": {},
     "output_type": "execute_result"
    }
   ],
   "source": [
    "y = ph(z)\n",
    "\n",
    "y"
   ]
  }
 ],
 "metadata": {
  "kernelspec": {
   "display_name": "Python 3",
   "language": "python",
   "name": "python3"
  },
  "language_info": {
   "codemirror_mode": {
    "name": "ipython",
    "version": 3
   },
   "file_extension": ".py",
   "mimetype": "text/x-python",
   "name": "python",
   "nbconvert_exporter": "python",
   "pygments_lexer": "ipython3",
   "version": "3.10.12"
  }
 },
 "nbformat": 4,
 "nbformat_minor": 2
}
